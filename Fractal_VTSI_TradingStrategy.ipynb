{
  "nbformat": 4,
  "nbformat_minor": 0,
  "metadata": {
    "colab": {
      "provenance": []
    },
    "kernelspec": {
      "name": "python3",
      "display_name": "Python 3"
    },
    "language_info": {
      "name": "python"
    }
  },
  "cells": [
    {
      "cell_type": "markdown",
      "source": [
        "Import libs"
      ],
      "metadata": {
        "id": "IUQeUAvksiA8"
      }
    },
    {
      "cell_type": "code",
      "execution_count": null,
      "metadata": {
        "id": "NVZUmNilshFw"
      },
      "outputs": [],
      "source": [
        "import pandas as pd\n",
        "import numpy as np\n",
        "import matplotlib.pyplot as plt\n",
        "import yfinance as yf"
      ]
    },
    {
      "cell_type": "code",
      "source": [
        "import contextlib\n",
        "import sys, os\n",
        "import warnings\n",
        "warnings.filterwarnings('ignore')\n",
        "\n",
        "\n",
        "@contextlib.contextmanager\n",
        "def suppress_output():\n",
        "    with open(os.devnull, \"w\") as devnull:\n",
        "        old_stdout = sys.stdout\n",
        "        old_stderr = sys.stderr\n",
        "        sys.stdout = devnull\n",
        "        sys.stderr = devnull\n",
        "        try:\n",
        "            yield\n",
        "        finally:\n",
        "            sys.stdout = old_stdout\n",
        "            sys.stderr = old_stderr\n"
      ],
      "metadata": {
        "id": "IxMRbcO0BAQp"
      },
      "execution_count": null,
      "outputs": []
    },
    {
      "cell_type": "markdown",
      "source": [
        "Download data from yahoo finance"
      ],
      "metadata": {
        "id": "NeZ4aDQgYC0F"
      }
    },
    {
      "cell_type": "code",
      "source": [
        "# ==================== [1] DOWNLOAD DATA ====================\n",
        "def download_data(ticker, start_date, end_date):\n",
        "    data = yf.download(ticker, start=start_date, end=end_date, auto_adjust=False)\n",
        "    data['Date'] = data.index\n",
        "    data = data.reset_index(drop=True)\n",
        "    data = data[['Date', 'Open', 'High', 'Low', 'Close', 'Adj Close', 'Volume']]\n",
        "    data['Close'] = data['Adj Close']\n",
        "\n",
        "    return data\n"
      ],
      "metadata": {
        "id": "-VSuzbtZtzgT"
      },
      "execution_count": null,
      "outputs": []
    },
    {
      "cell_type": "code",
      "source": [
        "# ==================== [3] FRACTAL IDENTIFIER ====================\n",
        "def is_fractal(data, i):\n",
        "    \"\"\"\n",
        "    Detects bullish (1) or bearish (-1) fractals at a given index.\n",
        "    \"\"\"\n",
        "    lows = data['Low'].values\n",
        "    highs = data['High'].values\n",
        "\n",
        "    if i < 2 or i > len(data) - 3:\n",
        "        return 0  # Not enough candles around to form a fractal\n",
        "\n",
        "    # Bullish fractal: center low is lowest among neighbors\n",
        "    if (lows[i] < lows[i-1] and lows[i] < lows[i+1] and lows[i] < lows[i-2] and lows[i] < lows[i+2]):\n",
        "        return 1\n",
        "\n",
        "    # Bearish fractal: center high is highest among neighbors\n",
        "    elif (highs[i] > highs[i-1] and highs[i] > highs[i+1] and highs[i] > highs[i-2] and highs[i] > highs[i+2]):\n",
        "        return -1\n",
        "\n",
        "    return 0"
      ],
      "metadata": {
        "id": "oxUElHSsuiQu"
      },
      "execution_count": null,
      "outputs": []
    },
    {
      "cell_type": "code",
      "source": [
        "# ==================== [4] ATR CALCULATOR ====================\n",
        "def fill_atr(data, period=14):\n",
        "\n",
        "    high = data['High']\n",
        "    low = data['Low']\n",
        "    close = data['Close']\n",
        "\n",
        "    tr1 = high - low\n",
        "    tr2 = (high - close.shift(1)).abs()\n",
        "    tr3 = (low - close.shift(1)).abs()\n",
        "\n",
        "    tr = pd.concat([tr1, tr2, tr3], axis=1).max(axis=1)\n",
        "    atr = tr.rolling(window=period).mean()\n",
        "\n",
        "    data['ATR'] = atr\n",
        "    return data\n"
      ],
      "metadata": {
        "id": "s6KYWjmz3ex7"
      },
      "execution_count": null,
      "outputs": []
    },
    {
      "cell_type": "markdown",
      "source": [
        "CUSTOM INDICATOR\n",
        "VTSI = EMA(t) - EMA(t-n) / ATR"
      ],
      "metadata": {
        "id": "UsJIMUHHY0EZ"
      }
    },
    {
      "cell_type": "code",
      "source": [
        "# ==================== [5] EMA & VTSI ====================\n",
        "\n",
        "def vtsi(data, t, n):\n",
        "    \"\"\"\n",
        "    Volume Trend Strength Indicator (VTSI)\n",
        "    Formula: VTSI = (EMA(t) - EMA(t - n)) / ATR\n",
        "\n",
        "    Assumes that 'ATR' column is already added by `fill_atr()`.\n",
        "    \"\"\"\n",
        "    if 'ATR' not in data.columns:\n",
        "        raise ValueError(\"ATR column missing. Please run `fill_atr(data)` first.\")\n",
        "\n",
        "    ema_t = data['Close'].squeeze().ewm(span=t, adjust=False).mean()\n",
        "    ema_t_minus_n = data['Close'].squeeze().ewm(span=t-n, adjust=False).mean()\n",
        "\n",
        "    atr_series = data['ATR'].squeeze()\n",
        "\n",
        "    vtsi_series = (ema_t - ema_t_minus_n) / atr_series\n",
        "\n",
        "    data['VTSI'] = vtsi_series\n",
        "\n",
        "    return data"
      ],
      "metadata": {
        "id": "oMHimVV6Ztm9"
      },
      "execution_count": null,
      "outputs": []
    },
    {
      "cell_type": "markdown",
      "source": [
        "###Develop the Strategy\n",
        "####Buy:\n",
        "  When a bullish fractal is detected and vtsi > Threshold (high chance of  increase in stock).\n",
        "####Sell:\n",
        "  When a bearish fractal is detected and vtsi is < Threshold (high chance of price going down)\n",
        "\n",
        "  threshold can be +/- 0.6  or  +/- 0.7"
      ],
      "metadata": {
        "id": "rG_yxsoSbIOJ"
      }
    },
    {
      "cell_type": "code",
      "source": [
        "# ==================== [6] STRATEGY RULE ====================\n",
        "def strategy(data, threshold):\n",
        "    data['Signal'] = 0  # Initialize with no signal\n",
        "\n",
        "    for i in range(2, len(data) - 2):\n",
        "        fractal = is_fractal(data, i) #u are calculating if a peak exists in t-2\n",
        "        vtsi_val = data['VTSI'].iloc[i]\n",
        "        atr = data['ATR'].iloc[i]\n",
        "        close = data['Close'].iloc[i]\n",
        "\n",
        "        # Skip bad values\n",
        "        if pd.isna(vtsi_val) or isinstance(vtsi_val, pd.Series):\n",
        "            continue\n",
        "\n",
        "        # Logic for trades\n",
        "        if fractal == 1 and vtsi_val >= threshold:\n",
        "            data.at[data.index[i], 'Signal'] = 1\n",
        "        elif fractal == -1 and vtsi_val <= -threshold:\n",
        "            data.at[data.index[i], 'Signal'] = -1\n"
      ],
      "metadata": {
        "id": "AvRPzTM2fJQo"
      },
      "execution_count": null,
      "outputs": []
    },
    {
      "cell_type": "code",
      "source": [
        "# ==================== [7] BACKTEST ====================\n",
        "def backtest(data, initial_capital):\n",
        "    \"\"\"\n",
        "    Backtests the strategy with fixed lot size = 100 shares\n",
        "    \"\"\"\n",
        "    positions = pd.DataFrame(index=data.index)\n",
        "    positions['Stock'] = 0.0\n",
        "\n",
        "    portfolio = pd.DataFrame(index=data.index)\n",
        "    portfolio['cash'] = 0.0\n",
        "    portfolio['holdings'] = 0.0\n",
        "    portfolio['total'] = 0.0\n",
        "    portfolio['returns'] = 0.0\n",
        "\n",
        "    # Initialize day 0\n",
        "    portfolio.iloc[0, portfolio.columns.get_loc('cash')] = initial_capital\n",
        "    portfolio.iloc[0, portfolio.columns.get_loc('total')] = initial_capital\n",
        "\n",
        "    for i in range(1, len(data)):\n",
        "        # Fetch Previous values\n",
        "        cash = float(portfolio['cash'].iloc[i-1])\n",
        "        stock = float(positions['Stock'].iloc[i-1])\n",
        "        close = float(data['Close'].iloc[i])\n",
        "        signal = float(data['Signal'].iloc[i])\n",
        "\n",
        "        can_buy = cash >= (close * 100)\n",
        "        can_sell = stock >= 100\n",
        "\n",
        "        positions.iloc[i, positions.columns.get_loc('Stock')] = stock\n",
        "        portfolio.iloc[i, portfolio.columns.get_loc('cash')] = cash\n",
        "\n",
        "        # Generating the signal\n",
        "        if signal == 1 and can_buy:\n",
        "            stock += 100\n",
        "            cash -= close * 100\n",
        "        elif signal == -1 and can_sell:\n",
        "            stock -= 100\n",
        "            cash += close * 100\n",
        "\n",
        "        # Update data after trade\n",
        "        positions.iloc[i, positions.columns.get_loc('Stock')] = stock\n",
        "        portfolio.iloc[i, portfolio.columns.get_loc('cash')] = cash\n",
        "\n",
        "        holdings = stock * close\n",
        "        total = holdings + cash\n",
        "\n",
        "        portfolio.iloc[i, portfolio.columns.get_loc('holdings')] = holdings\n",
        "        portfolio.iloc[i, portfolio.columns.get_loc('total')] = total\n",
        "\n",
        "        if i > 1:\n",
        "            previous_total = portfolio['total'].iloc[i - 1]\n",
        "            portfolio.iloc[i, portfolio.columns.get_loc('returns')] = (total / previous_total) - 1\n",
        "\n",
        "    return portfolio,positions\n",
        "\n",
        "\n"
      ],
      "metadata": {
        "id": "YUjJ8PzuiFN2"
      },
      "execution_count": null,
      "outputs": []
    },
    {
      "cell_type": "code",
      "source": [
        "# ==================== [8] GENERATE REPORT ====================\n",
        "def generate_report(portfolio, initial_capital):\n",
        "    \"\"\"\n",
        "    Generates performance metrics and equity curve.\n",
        "    \"\"\"\n",
        "    total_return = portfolio['total'].iloc[-1] / initial_capital - 1\n",
        "    annualized_return = (1 + total_return)**(252 / len(portfolio)) - 1\n",
        "    annualized_volatility = portfolio['returns'].std() * np.sqrt(252)\n",
        "    sharpe_ratio = annualized_return / annualized_volatility\n",
        "\n",
        "    print(f'Total Return: {total_return:.2%}')\n",
        "    print(f'Annualized Return: {annualized_return:.2%}')\n",
        "    print(f'Annualized Volatility: {annualized_volatility:.2%}')\n",
        "    print(f'Sharpe Ratio: {sharpe_ratio:.2f}')\n",
        "\n",
        "    # Plot equity curve\n",
        "    plt.figure(figsize=(12, 8))\n",
        "    plt.plot(portfolio['total'],\n",
        "             label='Total Portfolio Value',\n",
        "             c = 'purple')\n",
        "    plt.title('Equity Curve')\n",
        "    plt.xlabel('Date')\n",
        "    plt.ylabel('Portfolio Value')\n",
        "    plt.legend()\n",
        "    plt.grid()\n",
        "    plt.show()\n"
      ],
      "metadata": {
        "id": "owfmm3i-ps7a"
      },
      "execution_count": null,
      "outputs": []
    },
    {
      "cell_type": "code",
      "source": [
        "def collect_metrics(portfolio, initial_capital):\n",
        "    \"\"\"\n",
        "    Returns key performance metrics from the portfolio.\n",
        "    \"\"\"\n",
        "    total_return = portfolio['total'].iloc[-1] / initial_capital - 1\n",
        "    annualized_return = (1 + total_return)**(252 / len(portfolio)) - 1\n",
        "    annualized_volatility = portfolio['returns'].std() * np.sqrt(252)\n",
        "    sharpe_ratio = annualized_return / annualized_volatility if annualized_volatility != 0 else 0\n",
        "\n",
        "    return {\n",
        "        'total_return_pct': float(round(total_return * 100, 2)),\n",
        "        'cagr_pct': float(round(annualized_return * 100, 2)),\n",
        "        'annual_volatility_pct': float(round(annualized_volatility * 100, 2)),\n",
        "        'sharpe_ratio': float(round(sharpe_ratio, 2))\n",
        "    }\n"
      ],
      "metadata": {
        "id": "2msRpJBL3YPl"
      },
      "execution_count": null,
      "outputs": []
    },
    {
      "cell_type": "code",
      "source": [
        "# ======================== EXECUTE ================================\n",
        "#This cell is to quick-backtest a single stock\n",
        "\n",
        "data = download_data('M&M.NS', '2020-01-01', '2024-01-01')\n",
        "with suppress_output():\n",
        "    # Step 1: Calculate indicators and signals\n",
        "    data = fill_atr(data, 14)\n",
        "    vtsi(data, t=20, n=10)\n",
        "    strategy(data, 0.6)\n",
        "\n",
        "# Step 2: Backtest the strategy\n",
        "initial_capital =100000\n",
        "portfolio,positions = backtest(data, initial_capital)\n",
        "\n",
        "# Step 3: Generate the performance report\n",
        "generate_report(portfolio, initial_capital)\n",
        "metrics = collect_metrics(portfolio, initial_capital)\n",
        "print(metrics)"
      ],
      "metadata": {
        "colab": {
          "base_uri": "https://localhost:8080/",
          "height": 822
        },
        "id": "hgKBFABRqyGn",
        "outputId": "757b0469-8574-4895-912e-d1a289894f01"
      },
      "execution_count": null,
      "outputs": [
        {
          "output_type": "stream",
          "name": "stderr",
          "text": [
            "\r[*********************100%***********************]  1 of 1 completed\n"
          ]
        },
        {
          "output_type": "stream",
          "name": "stdout",
          "text": [
            "Total Return: 264.49%\n",
            "Annualized Return: 38.90%\n",
            "Annualized Volatility: 19.04%\n",
            "Sharpe Ratio: 2.04\n"
          ]
        },
        {
          "output_type": "display_data",
          "data": {
            "text/plain": [
              "<Figure size 1200x800 with 1 Axes>"
            ],
            "image/png": "[encoded data removed]"
          },
          "metadata": {}
        },
        {
          "output_type": "stream",
          "name": "stdout",
          "text": [
            "{'total_return_pct': 264.49, 'cagr_pct': 38.9, 'annual_volatility_pct': 19.04, 'sharpe_ratio': 2.04}\n"
          ]
        }
      ]
    },
    {
      "cell_type": "code",
      "source": [
        "def extract_metrics(portfolio, initial_capital):\n",
        "\n",
        "  total_return = portfolio['total'].iloc[-1] / initial_capital - 1\n",
        "  annualized_return = (1 + total_return)**(252 / len(portfolio)) - 1\n",
        "  annualized_volatility = portfolio['returns'].std() * np.sqrt(252)\n",
        "  sharpe_ratio = annualized_return / annualized_volatility\n",
        "\n",
        "  return{\n",
        "      'Total Return': float(round(total_return * 100, 2)),\n",
        "      'Annualized Return': float(round(annualized_return * 100, 2)),\n",
        "      'Annualized Volatility': float(round(annualized_volatility * 100, 2)),\n",
        "      'Sharpe Ratio': float(round(sharpe_ratio, 2))\n",
        "  }"
      ],
      "metadata": {
        "id": "Gj9pmme48L_b"
      },
      "execution_count": 30,
      "outputs": []
    },
    {
      "cell_type": "code",
      "source": [
        "#=============== BACKTEST AND LOG ==================================\n",
        "#Backtest and store stock-wise metrics\n",
        "def backtest_and_log(stock_list, sheet, threshold, initial_capital):\n",
        "\n",
        "  for stock in stock_list:\n",
        "    data = download_data(stock, '2020-01-01', '2025-01-01')\n",
        "\n",
        "    with suppress_output():\n",
        "      data = fill_atr(data, 14)\n",
        "      vtsi(data, t=20, n=10)\n",
        "      strategy(data, threshold)\n",
        "\n",
        "      portfolio, positions = backtest(data, initial_capital)\n",
        "\n",
        "      metrics = extract_metrics(portfolio, initial_capital)\n",
        "\n",
        "    row = [stock,\n",
        "           metrics['Total Return'],\n",
        "           metrics['Annualized Return'],\n",
        "           metrics['Annualized Volatility'],\n",
        "           metrics['Sharpe Ratio']]\n",
        "    sheet.append_row(row)\n",
        "\n",
        "  print(\"✅ All results logged to Google Sheet.\")"
      ],
      "metadata": {
        "id": "HsSx6zvO-tMd"
      },
      "execution_count": 36,
      "outputs": []
    },
    {
      "cell_type": "code",
      "source": [
        "#======================== SAVE DATA ===============================\n",
        "import gspread\n",
        "from oauth2client.service_account import ServiceAccountCredentials\n",
        "\n",
        "#Define the scope\n",
        "scope = ['https://spreadsheets.google.com/feeds',\n",
        "         'https://www.googleapis.com/auth/drive']\n",
        "\n",
        "#Load credentials from json key\n",
        "creds = ServiceAccountCredentials.from_json_keyfile_name('your_credentials.json', scope)\n",
        "# Replace 'your_credentials.json' with your actual service account key file\n",
        "\n",
        "#Authorize cliet\n",
        "client = gspread.authorize(creds)\n",
        "\n",
        "#Open your google sheets\n",
        "spreadsheet = client.open_by_url(\"your_gsheet_link\")\n",
        "# Replace with your own G-Sheet URL (make sure shared with the service account)\n",
        "\n",
        "sheet = spreadsheet.get_worksheet(0)"
      ],
      "metadata": {
        "id": "Y-8BclMr68TJ"
      },
      "execution_count": 33,
      "outputs": []
    },
    {
      "cell_type": "code",
      "source": [
        "# For a Fresh Sheet\n",
        "sheet.clear()\n",
        "sheet.append_row(['Stock', 'Total Return', 'Annualized Return (%)', 'Annualized Volatility (%)', 'Sharpe Ratio'])\n"
      ],
      "metadata": {
        "colab": {
          "base_uri": "https://localhost:8080/"
        },
        "id": "5HbPyFZiC5XU",
        "outputId": "bdc171a9-7601-422d-f671-62854abcc97d"
      },
      "execution_count": 34,
      "outputs": [
        {
          "output_type": "execute_result",
          "data": {
            "text/plain": [
              "{'spreadsheetId': '17pbqg1DRwYGLI1Pz80DD6k1HifuvTS_FJq-tob3PlyM',\n",
              " 'updates': {'spreadsheetId': '17pbqg1DRwYGLI1Pz80DD6k1HifuvTS_FJq-tob3PlyM',\n",
              "  'updatedRange': 'Sheet1!A1:E1',\n",
              "  'updatedRows': 1,\n",
              "  'updatedColumns': 5,\n",
              "  'updatedCells': 5}}"
            ]
          },
          "metadata": {},
          "execution_count": 34
        }
      ]
    },
    {
      "cell_type": "code",
      "source": [
        "stock_list = ['ADANIENT.NS', 'M&M.NS', 'HINDALCO.NS', 'ADANIPOWER.NS']\n",
        "backtest_and_log(stock_list,\n",
        "                 sheet,\n",
        "                 0.6,\n",
        "                 100000)"
      ],
      "metadata": {
        "colab": {
          "base_uri": "https://localhost:8080/"
        },
        "id": "yNnheOPzB3w0",
        "outputId": "e5748a5e-de49-4d6d-96d1-4cee089a1c89"
      },
      "execution_count": 37,
      "outputs": [
        {
          "output_type": "stream",
          "name": "stderr",
          "text": [
            "[*********************100%***********************]  1 of 1 completed\n",
            "[*********************100%***********************]  1 of 1 completed\n",
            "[*********************100%***********************]  1 of 1 completed\n",
            "[*********************100%***********************]  1 of 1 completed\n"
          ]
        },
        {
          "output_type": "stream",
          "name": "stdout",
          "text": [
            "✅ All results logged to Google Sheet.\n"
          ]
        }
      ]
    },
    {
      "cell_type": "code",
      "source": [
        "# Export daily data to a csv file\n",
        "def export_portfolio_view(data, portfolio, positions, output_name):\n",
        "\n",
        "    result_df = pd.DataFrame()\n",
        "    result_df['Date'] = data['Date']\n",
        "    result_df['Close'] = data['Close']\n",
        "    result_df['Signal'] = data['Signal'].astype(int)\n",
        "    result_df['Portfolio Value'] = portfolio['total'].round(2)\n",
        "    result_df['Rise/Fall'] = portfolio['total'].diff().fillna(0).round(2)\n",
        "    result_df['Stocks Held'] = positions['Stock'].astype(int)\n",
        "    result_df['Cash in Hand'] = portfolio['cash'].round(2)\n",
        "\n",
        "    result_df.to_csv(output_name , index=False)\n",
        "    print(f\"Exported to {output_name}\")"
      ],
      "metadata": {
        "id": "u4HHbC9xyjHD"
      },
      "execution_count": 38,
      "outputs": []
    },
    {
      "cell_type": "code",
      "source": [
        "#=============== BACKTEST AND DOWNLOAD DAILY DATA ================\n",
        "def backtest_and_download(stock_list, threshold, initial_capital):\n",
        "    save_path = 'your_path' #replace with your pathname\n",
        "    os.makedirs(save_path, exist_ok=True)\n",
        "\n",
        "    for stock in stock_list:\n",
        "        data = download_data(stock, '2020-01-01', '2024-01-01')\n",
        "\n",
        "        with suppress_output():\n",
        "            data = fill_atr(data, 14)\n",
        "            vtsi(data, t=20, n=10)\n",
        "            strategy(data, threshold)\n",
        "\n",
        "            portfolio,positions = backtest(data, initial_capital)\n",
        "\n",
        "            output_filename = f\"{save_path}{stock}_portfolio.csv\"\n",
        "            export_portfolio_view(data, portfolio, positions, output_filename)\n",
        "            print(f\"✅ Saved: {stock}_portfolio.csv to daily_data\")\n",
        "\n",
        "    print(\"✅ All results downloaded as csv.\")"
      ],
      "metadata": {
        "id": "K5CC-S1dCVbJ"
      },
      "execution_count": 39,
      "outputs": []
    },
    {
      "cell_type": "code",
      "source": [
        "# ============================ EXECUTE =================================\n",
        "vtsi_07_stock = ['ADANIENT.NS', 'M&M.NS', 'HINDALCO.NS', 'ADANIPOWER.NS']\n",
        "vtsi_06_stock = ['JSWSTEEL.NS', 'TATAMOTORS.NS', 'RELIANCE.NS']\n",
        "\n",
        "initial_capital = 100000\n",
        "\n",
        "# Run for 0.7 threshold stocks\n",
        "backtest_and_download(vtsi_07_stock, threshold=0.7, initial_capital=initial_capital)\n",
        "\n",
        "# Run for 0.6 threshold stocks\n",
        "backtest_and_download(vtsi_06_stock, threshold=0.6, initial_capital=initial_capital)"
      ],
      "metadata": {
        "colab": {
          "base_uri": "https://localhost:8080/"
        },
        "id": "okDkQp673VfR",
        "outputId": "bab8203d-4f40-4d2b-fb77-50e5b0dc6c98"
      },
      "execution_count": 40,
      "outputs": [
        {
          "output_type": "stream",
          "name": "stderr",
          "text": [
            "[*********************100%***********************]  1 of 1 completed\n",
            "[*********************100%***********************]  1 of 1 completed\n",
            "[*********************100%***********************]  1 of 1 completed\n",
            "[*********************100%***********************]  1 of 1 completed\n"
          ]
        },
        {
          "output_type": "stream",
          "name": "stdout",
          "text": [
            "✅ All results downloaded as csv.\n"
          ]
        },
        {
          "output_type": "stream",
          "name": "stderr",
          "text": [
            "[*********************100%***********************]  1 of 1 completed\n",
            "[*********************100%***********************]  1 of 1 completed\n",
            "[*********************100%***********************]  1 of 1 completed\n"
          ]
        },
        {
          "output_type": "stream",
          "name": "stdout",
          "text": [
            "✅ All results downloaded as csv.\n"
          ]
        }
      ]
    },
    {
      "cell_type": "markdown",
      "source": [
        "ORGANIZING DATA"
      ],
      "metadata": {
        "id": "2hHSP3qDQ1it"
      }
    },
    {
      "cell_type": "code",
      "source": [
        "#download data\n",
        "from google.colab import drive\n",
        "drive.mount('/Drive_path/')\n"
      ],
      "metadata": {
        "colab": {
          "base_uri": "https://localhost:8080/"
        },
        "id": "QbG38vpt43MK",
        "outputId": "42325ca5-6e9d-4d0f-f612-18c692e19605"
      },
      "execution_count": null,
      "outputs": [
        {
          "output_type": "stream",
          "name": "stdout",
          "text": [
            "Drive already mounted at /content/drive; to attempt to forcibly remount, call drive.mount(\"/content/drive\", force_remount=True).\n"
          ]
        }
      ]
    },
    {
      "cell_type": "code",
      "source": [
        "# Copy daily_data folder to drive\n",
        "!cp -r daily_data/ \"/Project_folder/\""
      ],
      "metadata": {
        "id": "tSV7ti0g5GXf"
      },
      "execution_count": null,
      "outputs": []
    },
    {
      "cell_type": "code",
      "source": [
        "# Download the daily_data folder\n",
        "!zip -r daily_data.zip daily_data\n",
        "from google.colab import files\n",
        "files.download('daily_data.zip')"
      ],
      "metadata": {
        "colab": {
          "base_uri": "https://localhost:8080/",
          "height": 156
        },
        "id": "eKPcYLqZ6J7M",
        "outputId": "c0f1eb29-05a2-4ae9-92cf-32b3ce51ff80"
      },
      "execution_count": null,
      "outputs": [
        {
          "output_type": "stream",
          "name": "stdout",
          "text": [
            "  adding: daily_data/ (stored 0%)\n",
            "  adding: daily_data/JSWSTEEL.NS_portfolio.csv (deflated 73%)\n",
            "  adding: daily_data/TATAMOTORS.NS_portfolio.csv (deflated 74%)\n",
            "  adding: daily_data/ADANIPOWER.NS_portfolio.csv (deflated 83%)\n",
            "  adding: daily_data/M&M.NS_portfolio.csv (deflated 69%)\n",
            "  adding: daily_data/RELIANCE.NS_portfolio.csv (deflated 76%)\n",
            "  adding: daily_data/HINDALCO.NS_portfolio.csv (deflated 72%)\n",
            "  adding: daily_data/ADANIENT.NS_portfolio.csv (deflated 78%)\n"
          ]
        },
        {
          "output_type": "display_data",
          "data": {
            "text/plain": [
              "<IPython.core.display.Javascript object>"
            ],
            "application/javascript": [
              "\n",
              "    async function download(id, filename, size) {\n",
              "      if (!google.colab.kernel.accessAllowed) {\n",
              "        return;\n",
              "      }\n",
              "      const div = document.createElement('div');\n",
              "      const label = document.createElement('label');\n",
              "      label.textContent = `Downloading \"${filename}\": `;\n",
              "      div.appendChild(label);\n",
              "      const progress = document.createElement('progress');\n",
              "      progress.max = size;\n",
              "      div.appendChild(progress);\n",
              "      document.body.appendChild(div);\n",
              "\n",
              "      const buffers = [];\n",
              "      let downloaded = 0;\n",
              "\n",
              "      const channel = await google.colab.kernel.comms.open(id);\n",
              "      // Send a message to notify the kernel that we're ready.\n",
              "      channel.send({})\n",
              "\n",
              "      for await (const message of channel.messages) {\n",
              "        // Send a message to notify the kernel that we're ready.\n",
              "        channel.send({})\n",
              "        if (message.buffers) {\n",
              "          for (const buffer of message.buffers) {\n",
              "            buffers.push(buffer);\n",
              "            downloaded += buffer.byteLength;\n",
              "            progress.value = downloaded;\n",
              "          }\n",
              "        }\n",
              "      }\n",
              "      const blob = new Blob(buffers, {type: 'application/binary'});\n",
              "      const a = document.createElement('a');\n",
              "      a.href = window.URL.createObjectURL(blob);\n",
              "      a.download = filename;\n",
              "      div.appendChild(a);\n",
              "      a.click();\n",
              "      div.remove();\n",
              "    }\n",
              "  "
            ]
          },
          "metadata": {}
        },
        {
          "output_type": "display_data",
          "data": {
            "text/plain": [
              "<IPython.core.display.Javascript object>"
            ],
            "application/javascript": [
              "download(\"download_b8f7322c-4a96-4dce-a789-910e2f88e2aa\", \"daily_data.zip\", 104071)"
            ]
          },
          "metadata": {}
        }
      ]
    },
    {
      "cell_type": "code",
      "source": [
        "# Combine Daily datas to single csv - Used for Analysis\n",
        "import pandas as pd\n",
        "import os\n",
        "\n",
        "folder_path = 'folder_path'\n",
        "combined_df = pd.DataFrame()\n",
        "\n",
        "for filename in os.listdir(folder_path):\n",
        "    if filename.endswith('.csv'):\n",
        "        stock_name = filename.replace('.csv', '')\n",
        "        df = pd.read_csv(os.path.join(folder_path, filename))\n",
        "        df['Stock'] = stock_name  # Add a stock column\n",
        "        combined_df = pd.concat([combined_df, df])\n",
        "\n",
        "combined_df.to_csv('All_Daily_Stocks.csv', index=False)"
      ],
      "metadata": {
        "id": "Do5_d2JD6VtI"
      },
      "execution_count": null,
      "outputs": []
    },
    {
      "cell_type": "code",
      "source": [
        "!cp All_Daily_Stocks.csv \"/Project_folder/\""
      ],
      "metadata": {
        "id": "YMvkI6f9FtT5"
      },
      "execution_count": null,
      "outputs": []
    }
  ]
}